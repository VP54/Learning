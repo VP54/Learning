{
 "cells": [
  {
   "cell_type": "code",
   "execution_count": 6,
   "metadata": {},
   "outputs": [],
   "source": [
    "import os\n",
    "from abc import ABC, abstractmethod\n",
    "from datetime import datetime\n",
    "from typing import List, Tuple, Dict\n",
    "import pandas as pd\n",
    "import numpy as np\n",
    "import seaborn as sns\n",
    "import matplotlib.pyplot as plt\n",
    "from sklearn.model_selection import train_test_split\n",
    "from dataclasses import dataclass\n",
    "from preprocess_for_eda import PreprocessData\n",
    "\n",
    "data = pd.read_csv(\"./data.csv\", index_col = 0)"
   ]
  },
  {
   "cell_type": "code",
   "execution_count": null,
   "metadata": {},
   "outputs": [],
   "source": [
    "from itertools import combinations\n",
    "col_combinations = list(combinations(data.columns, 2))\n",
    "\n",
    "for col_comb in col_combinations:\n",
    "    try:\n",
    "        print(col_comb)\n",
    "        BoxPlot(data=data, fig=12, ax=12).save_plot(\n",
    "            to_vizualize = [col_comb],\n",
    "            save_path = \"../data/pictures\"\n",
    "            )\n",
    "    except TypeError:\n",
    "        pass"
   ]
  },
  {
   "attachments": {},
   "cell_type": "markdown",
   "metadata": {},
   "source": [
    "<pre>\n",
    "1. relationship between ftag, fthg ftrg\n",
    "2. relationship between ftag, fthg ftyg\n",
    "3. realtionship between ftg, ftrc, ftyc\n",
    "4. relationship between\n",
    "</pre>"
   ]
  }
 ],
 "metadata": {
  "kernelspec": {
   "display_name": "base",
   "language": "python",
   "name": "python3"
  },
  "language_info": {
   "codemirror_mode": {
    "name": "ipython",
    "version": 3
   },
   "file_extension": ".py",
   "mimetype": "text/x-python",
   "name": "python",
   "nbconvert_exporter": "python",
   "pygments_lexer": "ipython3",
   "version": "3.10.8"
  },
  "orig_nbformat": 4
 },
 "nbformat": 4,
 "nbformat_minor": 2
}
